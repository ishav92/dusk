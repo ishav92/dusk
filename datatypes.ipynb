{
 "cells": [
  {
   "cell_type": "code",
   "execution_count": 2,
   "metadata": {},
   "outputs": [
    {
     "name": "stdout",
     "output_type": "stream",
     "text": [
      "18\n"
     ]
    }
   ],
   "source": [
    "# NUMBERS\n",
    "\n",
    "a=18\n",
    "print(a)"
   ]
  },
  {
   "cell_type": "code",
   "execution_count": 1,
   "metadata": {},
   "outputs": [
    {
     "name": "stdout",
     "output_type": "stream",
     "text": [
      "4\n",
      "-2\n",
      "0.3333333333333333\n",
      "1\n",
      "3\n"
     ]
    }
   ],
   "source": [
    "a=1\n",
    "b=3\n",
    "print(a+b)\n",
    "print(a-b)\n",
    "print(a/b)\n",
    "print(a%b)\n",
    "print(a*b)\n",
    "\n"
   ]
  },
  {
   "cell_type": "code",
   "execution_count": 5,
   "metadata": {},
   "outputs": [
    {
     "name": "stdout",
     "output_type": "stream",
     "text": [
      "1\n"
     ]
    }
   ],
   "source": [
    "print(a)"
   ]
  },
  {
   "cell_type": "code",
   "execution_count": 6,
   "metadata": {},
   "outputs": [
    {
     "data": {
      "text/plain": [
       "int"
      ]
     },
     "execution_count": 6,
     "metadata": {},
     "output_type": "execute_result"
    }
   ],
   "source": [
    "type(a)"
   ]
  },
  {
   "cell_type": "code",
   "execution_count": 2,
   "metadata": {},
   "outputs": [
    {
     "name": "stdout",
     "output_type": "stream",
     "text": [
      "<class 'int'>\n"
     ]
    }
   ],
   "source": [
    "print(type(a))\n"
   ]
  },
  {
   "cell_type": "code",
   "execution_count": 3,
   "metadata": {},
   "outputs": [
    {
     "name": "stdout",
     "output_type": "stream",
     "text": [
      "isha\n"
     ]
    },
    {
     "data": {
      "text/plain": [
       "str"
      ]
     },
     "execution_count": 3,
     "metadata": {},
     "output_type": "execute_result"
    }
   ],
   "source": [
    "# STRING\n",
    "\n",
    "s1='isha'\n",
    "s2= 'meenu'\n",
    "s3= 'divya'\n",
    "print(s1)\n",
    "type(s2)"
   ]
  },
  {
   "cell_type": "code",
   "execution_count": 18,
   "metadata": {},
   "outputs": [
    {
     "name": "stdout",
     "output_type": "stream",
     "text": [
      "s\n",
      "n\n",
      "ish\n",
      "ivy\n",
      "isha isha\n"
     ]
    }
   ],
   "source": [
    "# STRING INDEX\n",
    "\n",
    "print(s1[1])\n",
    "print(s2[3])\n",
    "print(s1[0:3])\n",
    "print(s3[1:4])\n",
    "print(s1 + \" \" + s1)"
   ]
  },
  {
   "cell_type": "code",
   "execution_count": 20,
   "metadata": {},
   "outputs": [
    {
     "name": "stdout",
     "output_type": "stream",
     "text": [
      "Hi Isha\n",
      "<class 'str'> isha Hi Isha\n"
     ]
    }
   ],
   "source": [
    "s4= \"Hi Isha\"\n",
    "print(s4)\n",
    "print(type(s4) , s1 +\" \"+s4)"
   ]
  },
  {
   "cell_type": "code",
   "execution_count": 52,
   "metadata": {},
   "outputs": [
    {
     "name": "stdout",
     "output_type": "stream",
     "text": [
      "h\n",
      "['c', 'isha', 'divya']\n",
      "c\n",
      "[1, 'Hi', 'Python', 'c', 'isha', 'divya']\n",
      "[1, 'Hi', 'Python', 'c', 'isha', 'divya', 1, 'Hi', 'Python', 'c', 'isha', 'divya', 'a', 'b', 'c', 'a', 'b', 'c']\n",
      "\n",
      " ['a', 'b', 'c']\n",
      "\t ['a', 'b', 'c']\n",
      "isha\n",
      "[1, 'Hi', 'Python', 'isha', 'isha', 'divya']\n"
     ]
    }
   ],
   "source": [
    "# LIST\n",
    "\n",
    "l1=['a' , 'b', 'c']\n",
    "\n",
    "l2=[1 , \"Hi\" , \"Python\", \"c\" , s1 , s3]\n",
    "\n",
    "print(l2[2][3])                         # index in index\n",
    "\n",
    "print(l2[3:])\n",
    "print(l2[3])\n",
    "print(l2)\n",
    "print(l2 + l2 +  l1*2)           #concatinate\n",
    "print('\\n',l1)                    # new line\n",
    "print('\\t',l1)                  # tab\n",
    "\n",
    "l2[3] = \"isha\"                  # update\n",
    "print(l2[3])\n",
    "print(l2)"
   ]
  },
  {
   "cell_type": "code",
   "execution_count": 42,
   "metadata": {},
   "outputs": [
    {
     "name": "stdout",
     "output_type": "stream",
     "text": [
      "<class 'list'> ['a', 'b', 'c']\n"
     ]
    }
   ],
   "source": [
    "print(type(l1) , l1)\n"
   ]
  },
  {
   "cell_type": "code",
   "execution_count": 49,
   "metadata": {},
   "outputs": [
    {
     "name": "stdout",
     "output_type": "stream",
     "text": [
      "('hi', 'python', 2, 5)\n",
      "y\n",
      "('python', 2)\n"
     ]
    }
   ],
   "source": [
    "# TUPLE\n",
    "\n",
    "t= ( 'hi' , 'python' , 2 , 5 )\n",
    "print(t)\n",
    "print(t[1][1])\n",
    "print(t[1:3])\n",
    "print(type[t])\n",
    "\n",
    "\n"
   ]
  },
  {
   "cell_type": "code",
   "execution_count": 58,
   "metadata": {},
   "outputs": [
    {
     "name": "stdout",
     "output_type": "stream",
     "text": [
      "{1: 'isha', 2: 'divya', 3: 'suneet'}\n",
      "first name is suneet\n",
      "{1: 'ISHA', 2: 'divya', 3: 'suneet'}\n",
      "{1: 'ISHA', 2: 'divya', 3: 'suneet'}\n"
     ]
    }
   ],
   "source": [
    "# DICTONARY\n",
    "\n",
    "d={ 1:'isha' , 2:'divya' , 3:'suneet'}\n",
    "print(d)\n",
    "print('first name is', d[3])                   # here 3 is the key which will return the value in statement.\n",
    "d[1] = 'ISHA'                              # update\n",
    "print(d)"
   ]
  },
  {
   "cell_type": "code",
   "execution_count": 59,
   "metadata": {},
   "outputs": [
    {
     "name": "stdout",
     "output_type": "stream",
     "text": [
      "10 20 30\n"
     ]
    }
   ],
   "source": [
    "\n",
    "# OPERATORS     ( ARITHMATIC , ASSIGNMENT , LOGICAL ,COMPARISION )\n",
    "\n",
    "a,b,c = 10 ,20 ,30\n",
    "print(a,b,c)"
   ]
  },
  {
   "cell_type": "code",
   "execution_count": 66,
   "metadata": {},
   "outputs": [
    {
     "name": "stdout",
     "output_type": "stream",
     "text": [
      "False\n",
      "True\n",
      "False\n",
      "True\n",
      "True\n"
     ]
    }
   ],
   "source": [
    "k=10\n",
    "print(a>k)\n",
    "print(a>=k)\n",
    "print(a>k and c>k)\n",
    "print(b>k or k<c)\n",
    "print(not(a>k))                # NOT OPERATOR"
   ]
  },
  {
   "cell_type": "code",
   "execution_count": 68,
   "metadata": {},
   "outputs": [
    {
     "name": "stdout",
     "output_type": "stream",
     "text": [
      "8791213580752\n",
      "8791213580784\n"
     ]
    }
   ],
   "source": [
    "\n",
    "# DATA TYPE OPERATIONS\n",
    "\n",
    "# ADDRESS\n",
    "\n",
    "a=3\n",
    "b=4\n",
    "print(id(a))\n",
    "print(id(b))"
   ]
  },
  {
   "cell_type": "code",
   "execution_count": 70,
   "metadata": {},
   "outputs": [
    {
     "name": "stdout",
     "output_type": "stream",
     "text": [
      "<class 'int'>\n",
      "<class 'int'>\n",
      "<class 'list'>\n"
     ]
    }
   ],
   "source": [
    "print(type(a))\n",
    "print(type(4))\n",
    "print(type(l1))"
   ]
  },
  {
   "cell_type": "code",
   "execution_count": 95,
   "metadata": {},
   "outputs": [
    {
     "name": "stdout",
     "output_type": "stream",
     "text": [
      "[13, 13, 25, 25, 10, 25, 10, 25, 10, 25, 10, 25, 10, 25, 10, 25, 10, 25, 10, 25, 10, 25, 10, 25, 10, 25, 10, 25]\n",
      "[13, 13, 25, 10, 25, 10, 25, 10, 25, 10, 25, 10, 25, 10, 25, 10, 25, 10, 25, 10, 25, 10, 25, 10, 25, 10, 25]\n",
      "[13, 13, 25, 10, 25, 10, 25, 10, 25, 10, 25, 10, 25, 10, 25, 10, 25, 10, 25, 10, 25, 10, 25, 10, 25, 10, 25, 10]\n",
      "[13, 13, 13, 25, 10, 25, 10, 25, 10, 25, 10, 25, 10, 25, 10, 25, 10, 25, 10, 25, 10, 25, 10, 25, 10, 25, 10, 25, 10]\n",
      "[13, 13, 25, 10, 25, 10, 25, 10, 25, 10, 25, 10, 25, 10, 25, 10, 25, 10, 25, 10, 25, 10, 25, 10, 25, 10, 25, 10]\n"
     ]
    }
   ],
   "source": [
    "l1.append(25)                  # APPEND\n",
    "print(l1)\n",
    "l1.pop(2)                      # POP\n",
    "print(l1)\n",
    "l1.append(10)\n",
    "print(l1)\n",
    "l1.insert(2,13)                # INSERT\n",
    "print(l1)\n",
    "l1.pop(0)\n",
    "print(l1)\n",
    "\n",
    "\n"
   ]
  },
  {
   "cell_type": "code",
   "execution_count": 102,
   "metadata": {},
   "outputs": [
    {
     "name": "stdout",
     "output_type": "stream",
     "text": [
      "3\n"
     ]
    }
   ],
   "source": [
    "\n",
    "a=1\n",
    "b=2\n",
    "a+=b\n",
    "print(a)\n"
   ]
  },
  {
   "cell_type": "code",
   "execution_count": null,
   "metadata": {},
   "outputs": [],
   "source": [
    "\n",
    "## make a calculator .  just add , mul , div , sub of two numbers\n",
    "\n",
    "\n",
    "first_number = int(input(\" enter 1st num : \"))\n",
    "second_number = int(input(\" enter 2nd num : \"))\n",
    "operation_performed = input(\"operation : \")\n",
    "\n",
    "if operation_performed=='add':\n",
    "    print(first_number + second_number)\n",
    "elif operation_performed=='sub':\n",
    "    print(first_number - second_number)\n",
    "elif operation_performed=='mul':\n",
    "     print(first_number * second_number)\n",
    "elif operation_performed=='div':\n",
    "    print(first_number % second_number)\n"
   ]
  },
  {
   "cell_type": "code",
   "execution_count": null,
   "metadata": {},
   "outputs": [],
   "source": [
    "\n",
    "first_number = int(input(\" enter 1st num : \"))\n",
    "second_number = int(input(\" enter 2nd num : \"))\n",
    "operation_performed = input(\"operation : \")\n",
    "\n",
    "if operation=='add':\n",
    "    print(first_number + second_number)\n",
    "elif operation_performed=='sub':\n",
    "    print(first_number - second_number)\n",
    "elif operation_performed=='mul':\n",
    "     print(first_number * second_number)\n",
    "elif operation_performed=='div':\n",
    "    print(first_number % second_number)"
   ]
  },
  {
   "cell_type": "code",
   "execution_count": 16,
   "metadata": {},
   "outputs": [
    {
     "name": "stdin",
     "output_type": "stream",
     "text": [
      " enter frst num :  4\n",
      "enter second num :  3\n",
      " enter opetarion :  div\n"
     ]
    },
    {
     "name": "stdout",
     "output_type": "stream",
     "text": [
      "1\n"
     ]
    }
   ],
   "source": [
    "a= int(input(\" enter frst num : \"))\n",
    "b= int(input(\"enter second num : \"))\n",
    "o= input(\" enter opetarion : \")\n",
    "\n",
    "x=a+b\n",
    "y=a*b\n",
    "z=a-b\n",
    "w=a%b\n",
    "\n",
    "if o=='add':\n",
    "    print(x)\n",
    "elif o=='mul':\n",
    "    print(y)\n",
    "elif o=='div':\n",
    "     print(w)\n",
    "elif 0=='sub':\n",
    "     print(z)"
   ]
  }
 ],
 "metadata": {
  "kernelspec": {
   "display_name": "Python 3",
   "language": "python",
   "name": "python3"
  },
  "language_info": {
   "codemirror_mode": {
    "name": "ipython",
    "version": 3
   },
   "file_extension": ".py",
   "mimetype": "text/x-python",
   "name": "python",
   "nbconvert_exporter": "python",
   "pygments_lexer": "ipython3",
   "version": "3.7.4"
  }
 },
 "nbformat": 4,
 "nbformat_minor": 4
}
